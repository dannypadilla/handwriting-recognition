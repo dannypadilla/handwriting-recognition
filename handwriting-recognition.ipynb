{
 "cells": [
  {
   "cell_type": "markdown",
   "metadata": {},
   "source": [
    "# Handwriting Recognition\n",
    "---\n",
    "Ken Luo - 300706047\n",
    "\n",
    "Danny Padilla - 304542295"
   ]
  },
  {
   "cell_type": "markdown",
   "metadata": {},
   "source": [
    "## Question 1\n",
    "---"
   ]
  },
  {
   "cell_type": "markdown",
   "metadata": {},
   "source": [
    "** a. ** Download the dataset \"Digit\" from CSNS. Check out the dataset. It includes 1797 small images (8 x 8 pixels), each one includes a hand-written digit (0 - 9). You have to download the corresponding CSV file that includes the labels of the images. The goal is to build a Machine Learning Algorithm that can recognize the hand-written digits."
   ]
  },
  {
   "cell_type": "markdown",
   "metadata": {},
   "source": [
    "Import the following two libraries to work with images:\n",
    "\n",
    "**`\n",
    "import matplotlib.image as mpimg\n",
    "import matplotlib.pyplot as plt\n",
    "`**\n",
    "\n",
    "You can use:\n",
    "\n",
    "  **` plimg.imread(file_name) `**\n",
    "\n",
    "to lead an image and,\n",
    "\n",
    "  **` plt.imshow(image_name, cmap=plt.cm.gray_r,interpolation=\"nearest\") `**\n",
    "\n",
    "to show an image\n",
    "\n",
    "Add **` %matplotlib inline `** at the top of your code to make sure that the images will be shown inside the Jupyter explorer page."
   ]
  },
  {
   "cell_type": "code",
   "execution_count": 99,
   "metadata": {
    "collapsed": true
   },
   "outputs": [],
   "source": [
    "import matplotlib.image as mpimg\n",
    "import matplotlib.pyplot as plt\n",
    "%matplotlib inline\n",
    "\n",
    "import numpy as np\n",
    "import pandas as pd\n",
    "\n",
    "from sklearn.ensemble import RandomForestClassifier\n",
    "from sklearn.model_selection import train_test_split\n",
    "\n",
    "from sklearn.metrics import accuracy_score\n"
   ]
  },
  {
   "cell_type": "code",
   "execution_count": 68,
   "metadata": {},
   "outputs": [],
   "source": [
    "test = np.array(mpimg.imread('./Digit/0.jpg'))"
   ]
  },
  {
   "cell_type": "code",
   "execution_count": 38,
   "metadata": {},
   "outputs": [
    {
     "data": {
      "text/plain": [
       "<matplotlib.image.AxesImage at 0x11214e710>"
      ]
     },
     "execution_count": 38,
     "metadata": {},
     "output_type": "execute_result"
    },
    {
     "data": {
      "image/png": "[encoded data removed]",
      "text/plain": [
       "<matplotlib.figure.Figure at 0x1120294e0>"
      ]
     },
     "metadata": {},
     "output_type": "display_data"
    }
   ],
   "source": [
    "plt.imshow(test, cmap=plt.cm.gray_r, interpolation='nearest')\n"
   ]
  },
  {
   "cell_type": "markdown",
   "metadata": {},
   "source": [
    "** b. ** Build the feature matrix and label vector: Each image is considered as a data sample with pixels as features. This, to build the feature table you have to convert each 8 x 8 image into a row of the feature matrix with 64 feature columns for 64 pixels."
   ]
  },
  {
   "cell_type": "code",
   "execution_count": 133,
   "metadata": {},
   "outputs": [
    {
     "name": "stdout",
     "output_type": "stream",
     "text": [
      "0    0\n",
      "1    1\n",
      "2    2\n",
      "3    3\n",
      "4    4\n",
      "Name: digit, dtype: int64\n",
      "   name of the file  digit\n",
      "0                 0      0\n",
      "1                 1      1\n",
      "2                 2      2\n",
      "3                 3      3\n",
      "4                 4      4\n",
      "0\n"
     ]
    }
   ],
   "source": [
    "labels = pd.read_csv('label.csv')\n",
    "labels.head()\n",
    "y = labels['digit']\n",
    "\n",
    "print(y.head())\n",
    "y.shape\n",
    "print(labels.head())\n",
    "print(labels.digit[10])\n"
   ]
  },
  {
   "cell_type": "code",
   "execution_count": 105,
   "metadata": {},
   "outputs": [
    {
     "name": "stdout",
     "output_type": "stream",
     "text": [
      "[  0   2  88 217 158  21   0   0  16   0 228 236 166 253  95   0   0  41\n",
      " 255  44  11 182 132   3  11  80 220   0   2 143 133   5   6  71 122   0\n",
      "   5 155 140   0   0  76 194   0  26 207 105  15   0  18 255  83 146 211\n",
      "   4   0   4   3  87 228 182   0   9   2]\n"
     ]
    },
    {
     "data": {
      "text/plain": [
       "(1797, 64)"
      ]
     },
     "execution_count": 105,
     "metadata": {},
     "output_type": "execute_result"
    }
   ],
   "source": [
    "iterator = []\n",
    "\n",
    "for x in range(0, 1797):\n",
    "    iterator.append(mpimg.imread('./Digit/'+ str(x) + '.jpg').flatten())\n",
    "print(iterator[0])\n",
    "na = np.array(iterator)\n",
    "#print(na[:5])\n",
    "na.shape"
   ]
  },
  {
   "cell_type": "markdown",
   "metadata": {},
   "source": [
    "** c. ** Use sklearn functions to split the dataset into testing and training sets with the following parameters: **`test_size = 0.1, random_state = 2`**."
   ]
  },
  {
   "cell_type": "code",
   "execution_count": 106,
   "metadata": {},
   "outputs": [],
   "source": [
    "x_train, x_test, y_train, y_test = train_test_split(na, y, test_size = 0.1, random_state = 2)"
   ]
  },
  {
   "cell_type": "code",
   "execution_count": 107,
   "metadata": {},
   "outputs": [
    {
     "name": "stdout",
     "output_type": "stream",
     "text": [
      "(1617, 64)\n",
      "(180, 64)\n",
      "(1617,)\n",
      "(180,)\n"
     ]
    }
   ],
   "source": [
    "print(x_train.shape)\n",
    "print(x_test.shape)\n",
    "print(y_train.shape)\n",
    "print(y_test.shape)\n"
   ]
  },
  {
   "cell_type": "markdown",
   "metadata": {},
   "source": [
    "** d. ** Use scikit-learn \"Random Forest\" classifier to recognize the hand-written digits based on the training/testing datasets that you built in part ** (c) **. Use this command to import and define your classifier:\n",
    "\n",
    "**`from sklearn.ensemble import RandomForestClassifier`**\n",
    "\n",
    "**`my_RandomForest = RandomForestClassifier(n_estimators = 19, bootstrap = True, random_state = 2)`**\n",
    "\n",
    "Use **`my_RandomForest.fit`** for training your random forest classifier and **`my_RandomForest.predict`** for prediction. Test your Machine Learning Algorithm on testing set __*(from part (c) )*__, and calculate and report the __*accuracy*__"
   ]
  },
  {
   "cell_type": "code",
   "execution_count": 108,
   "metadata": {
    "collapsed": true
   },
   "outputs": [],
   "source": [
    "my_RandomForest = RandomForestClassifier(n_estimators = 19, bootstrap = True, random_state = 2)"
   ]
  },
  {
   "cell_type": "code",
   "execution_count": 109,
   "metadata": {},
   "outputs": [
    {
     "data": {
      "text/plain": [
       "RandomForestClassifier(bootstrap=True, class_weight=None, criterion='gini',\n",
       "            max_depth=None, max_features='auto', max_leaf_nodes=None,\n",
       "            min_impurity_decrease=0.0, min_impurity_split=None,\n",
       "            min_samples_leaf=1, min_samples_split=2,\n",
       "            min_weight_fraction_leaf=0.0, n_estimators=19, n_jobs=1,\n",
       "            oob_score=False, random_state=2, verbose=0, warm_start=False)"
      ]
     },
     "execution_count": 109,
     "metadata": {},
     "output_type": "execute_result"
    }
   ],
   "source": [
    "my_RandomForest.fit(x_train, y_train)"
   ]
  },
  {
   "cell_type": "code",
   "execution_count": 110,
   "metadata": {
    "collapsed": true
   },
   "outputs": [],
   "source": [
    "y_predict = my_RandomForest.predict(x_test)"
   ]
  },
  {
   "cell_type": "code",
   "execution_count": 111,
   "metadata": {},
   "outputs": [
    {
     "name": "stdout",
     "output_type": "stream",
     "text": [
      "0.927777777778\n"
     ]
    }
   ],
   "source": [
    "# test/calculate/report accuracy\n",
    "accuracy = accuracy_score(y_test, y_predict)\n",
    "print(accuracy)"
   ]
  },
  {
   "cell_type": "markdown",
   "metadata": {},
   "source": [
    "** e. ** Find exactly which one of the data samples (i.e. which images) have been misclassified (classified incorrectly) in your testing set. Then, use the following command to show the misclassified images:\n",
    "\n",
    "**`plt.imshow(image_name, cmap = plt.cm.gray, interpolation = \"nearest\")`**"
   ]
  },
  {
   "cell_type": "code",
   "execution_count": 157,
   "metadata": {},
   "outputs": [
    {
     "name": "stdout",
     "output_type": "stream",
     "text": [
      "(array([  4,  16,  41,  44,  45,  49,  63,  66, 115, 130, 137, 165, 174]),)\n",
      "[[  0   6   0  34 160   7   7   0   5   0   9 109 119   0   0   7   0  10\n",
      "    9 202 109  34  27   0   0   9 106 241   2 128 139   2   0  99 255 154\n",
      "    0 255  99   0   3  44 244 255 213 244   0  12   0  13   0  30 254 173\n",
      "    7   0   0   0   2  42 250  51   0   4]\n",
      " [  0   0   0 132 236  10   7   0  14   0   4 185 209   9   0   5   0   0\n",
      "   43 255 130   5   0   8   3   6  92 248  15   8   0   0   0  20  97 255\n",
      "  255 202  80   6   0   0 245 254 134 138 222   0   0   0  66 227 141  23\n",
      "  255  29   0   5   0 103 240 255 162   6]\n",
      " [  0   5   1 153 232  26   6   0   0   0  75 230 204   0   0  18   5   2\n",
      "  222 246  44 166  51   0   0  66 255 138  40 255 170   1  10 143 247 177\n",
      "  218 253  31   0   6   0 128 255 246 225  13   0   0   5   5 126 255  79\n",
      "   13   0   8   0  14 121 255  45   0   7]\n",
      " [  0   3 149 246 255 255  77   0   0  15 214 155 125 242 120  10   5   0\n",
      "   25   0 122 255  43   0   0  63 111 185 220 255 173   0  13 113 248 255\n",
      "  240 171  47   3   0  10  36 237 119   8   0   4   0  11 125 255  11   0\n",
      "    0  11  10   0 212 167   0  14   5   0]\n",
      " [  0  12 138 240 230  71  17   0   5   1  99  90 241 255   0   5   0   0\n",
      "   15 123 239  77  11   0   0  12   1  78 220  47   0  15  12   0   0   6\n",
      "  153 240  32   0   0   0   0   7   2 164 190  14   1   8  84 114 171 239\n",
      "  203   0   0   7 161 222 205 130   0   5]\n",
      " [  0   3  22 235 207   2  12   0   0   0 116 255 221 144   2   0   3 124\n",
      "  181 159  19 204  23  19   0 117 148  18   0 103  81   2   5  64 152   0\n",
      "    0  58 144   4   0  12 227  39  14 119 179   0   0   6 141 242 186 255\n",
      "  113   4   0   0   1 202 226 127   0   1]\n",
      " [  0  61 250 246 230 107  21   0   2  15 149 121 255 243  65   0   0   0\n",
      "   18 121 247 204  13   0  16   0   0 130 253  33   0  12   0   5   4  67\n",
      "  234 101   7   0   0   1   0   0 151 250   0   2   8  17 171 148 255 255\n",
      "   29  10   0  25 204 255 183  80   8   0]\n",
      " [  0   1  10 145 184   0   0   6   3   6 124 255 102   0  25   0   5   0\n",
      "  240 213   0   8   0  14   5   0 232 153   2   0   2   0   0  28 232 181\n",
      "  125  39  11  15   0   0 194 255 255 249 137  10   6   0 107 255 184 203\n",
      "  255  63   3   0   3 145 239 180  89   0]\n",
      " [  0   9   0 126 247 136   0   0   3   0  55 245 180 250  70   2   4   7\n",
      "   23 167  23 255  79   0   0   1   2   0 129 219   0   8   9   3   3 142\n",
      "  228  64   0   7  13  31 255 236  49   6   9   0   5  47 250 199 132  13\n",
      "    0  17   0  17   3 137 190 226  70   0]\n",
      " [  1   3  29 174 156   0   0   5   0   9 181 253 179  75   6   0  16   0\n",
      "  234  87   6 220   4   5   0  50 243  11   0 139 112   0   0  64 144   4\n",
      "   14 104 140   0   0   0 207   0   8 114 163   4   3  39 236  76 159 255\n",
      "    0   7   0   1  68 228 194  59   7   0]\n",
      " [  0  18  25 234 244  41   8   0  11   0 119 233 247 192   0   3   3   0\n",
      "   16  10 162 217   0   0   0  17   0   0 194 220  64   0   0   0  71 189\n",
      "  254 250 102  11   8   0 173 243 201   9   9   2   0   0  24 224  94  18\n",
      "    0   0   6   0  67 191  14   0   7   1]\n",
      " [  2  33 228 255 255 207  44   0   0 121 255 212 103 149  18   2   4  45\n",
      "  255  75   0   5  14   9  14   0 251 162  11   0   0   0   0  16 194 255\n",
      "   63   0   0  13   8   0  40 190 157  13  12   0   0  34 124 250 122   0\n",
      "    0   6   3  37 242 237  16   3   6   0]\n",
      " [  6   0  19 133 154 241 179   0   0  51 227 218 234 249  93  15   0  17\n",
      "   77  16  77 230  30   0   4   8   1  40 182 192  28   4   0   0  32 251\n",
      "  253 235 138   0  11   0  46 208 236  20   0  15   0   0   6 201 151  30\n",
      "    0   0   1   0  18 253  81   0   5   0]]\n"
     ]
    }
   ],
   "source": [
    "misclassified = np.where(y_test != my_RandomForest.predict(x_test))\n",
    "print(misclassified)\n",
    "for i in misclassified:\n",
    "#    plt.imshow(na[i][0].reshape((8,8)), cmap = plt.cm.gray, interpolation = \"nearest\")\n",
    "    print(na[i])\n",
    "    \n"
   ]
  },
  {
   "cell_type": "code",
   "execution_count": null,
   "metadata": {
    "collapsed": true
   },
   "outputs": [],
   "source": [
    "for i in misclassified:\n",
    "    plt.imshow(i, cmap = plt.cm.gray, interpolation = \"nearest\")"
   ]
  },
  {
   "cell_type": "markdown",
   "metadata": {},
   "source": [
    "## Question 2\n",
    "---\n",
    "No coding needed"
   ]
  },
  {
   "cell_type": "markdown",
   "metadata": {},
   "source": [
    "Suppose we have a dataset with 3 features: X1 = GPA, X2 = Age, X3 = Type of Position (1 for Technical positions, and 0 for Non-Technical positions), and we have built a non-linear regression model as:\n",
    "\n",
    "**`Target = 𝜃0 + 𝜃1𝑋1 + 𝜃2𝑋2 + 𝜃3𝑋3+ 𝜃4𝑋1𝑋2' + 𝜃5𝑋1𝑋3`**\n",
    "\n",
    "The prediction target is “starting salary after graduation” (in thousands of dollars). Suppose we train (fit) the model, and get **`𝜃0 = 30, 𝜃1 = 20, 𝜃2 = 0.07, 𝜃3 = -30, 𝜃4 = 0.01, 𝜃5 = 10`**."
   ]
  },
  {
   "cell_type": "markdown",
   "metadata": {},
   "source": [
    "** a. ** Which answer is correct, and why?\n",
    "\n",
    "  1. For a fixed value of Age and GPA, Technical positions earn more on average than non- technical positions.\n",
    "  2. For a fixed value of Age and GPA, Non-Technical positions earn more on average than Technical positions.\n",
    "  3. For a fixed value of Age and GPA, Technical positions earn more on average than Non-Technical positions when the GPA is high enough.\n",
    "  4. For a fixed value of Age and GPA, Non-Technical positions earn more on average than Technical positions when the GPA is high enough."
   ]
  },
  {
   "cell_type": "code",
   "execution_count": null,
   "metadata": {
    "collapsed": true
   },
   "outputs": [],
   "source": []
  },
  {
   "cell_type": "markdown",
   "metadata": {},
   "source": [
    "** b. ** Predict the salary of a Technical and a Non-Technical positions with Age of 27, GPA of 4.0."
   ]
  },
  {
   "cell_type": "code",
   "execution_count": null,
   "metadata": {
    "collapsed": true
   },
   "outputs": [],
   "source": []
  },
  {
   "cell_type": "markdown",
   "metadata": {},
   "source": [
    "## Question 3\n",
    "---\n",
    "No coding needed"
   ]
  },
  {
   "cell_type": "markdown",
   "metadata": {},
   "source": [
    "Suppose that we would like to perform the following task using MapReduce. Please determine the input/output of each mapper and reducer and all intermediate key-value pairs generated in the process of MapReduce:"
   ]
  },
  {
   "cell_type": "markdown",
   "metadata": {},
   "source": [
    "- Matrix-to-Vector multiplication using MapReduce with 4 mappers and 2 reducers:\n",
    "\n",
    "```\n",
    "                   _   _\n",
    " _            _   |  3  |\n",
    "| 5  -3   3  7 |  |  7  |\n",
    "|_4   2  -8  6_|  | -9  |\n",
    "                  |_ 2 _|\n",
    "                   \n",
    "```"
   ]
  },
  {
   "cell_type": "code",
   "execution_count": null,
   "metadata": {
    "collapsed": true
   },
   "outputs": [],
   "source": []
  }
 ],
 "metadata": {
  "kernelspec": {
   "display_name": "Python 3",
   "language": "python",
   "name": "python3"
  },
  "language_info": {
   "codemirror_mode": {
    "name": "ipython",
    "version": 3
   },
   "file_extension": ".py",
   "mimetype": "text/x-python",
   "name": "python",
   "nbconvert_exporter": "python",
   "pygments_lexer": "ipython3",
   "version": "3.5.2"
  }
 },
 "nbformat": 4,
 "nbformat_minor": 2
}
