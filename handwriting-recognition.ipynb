{
 "cells": [
  {
   "cell_type": "markdown",
   "metadata": {},
   "source": [
    "# Handwriting Recognition\n",
    "---\n",
    "Ken Luo\n",
    "\n",
    "Danny Padilla - 304542295"
   ]
  },
  {
   "cell_type": "markdown",
   "metadata": {},
   "source": [
    "## Question 1\n",
    "---"
   ]
  },
  {
   "cell_type": "markdown",
   "metadata": {},
   "source": [
    "** a. ** Download the dataset \"Digit\" from CSNS. Check out the dataset. It includes 1797 small images (8 x 8 pixels), each one includes a hand-written digit (0 - 9). You have to download the corresponding CSV file that includes the labels of the images. The goal is to build a Machine Learning Algorithm that can recognize the hand-written digits."
   ]
  },
  {
   "cell_type": "markdown",
   "metadata": {},
   "source": [
    "Import the following two libraries to work with images:\n",
    "\n",
    "**`\n",
    "import matplotlib.image as mpimg\n",
    "import matplotlib.pyplot as plt\n",
    "`**\n",
    "\n",
    "You can use:\n",
    "\n",
    "  **` plimg.imread(file_name) `**\n",
    "\n",
    "to lead an image and,\n",
    "\n",
    "  **` plt.imshow(image_name, cmap=plt.cm.gray_r,interpolation=\"nearest\") `**\n",
    "\n",
    "to show an image\n",
    "\n",
    "Add **` %matplotlib inline `** at the top of your code to make sure that the images will be shown inside the Jupyter explorer page."
   ]
  },
  {
   "cell_type": "code",
   "execution_count": 2,
   "metadata": {
    "collapsed": true
   },
   "outputs": [],
   "source": [
    "import matplotlib.image as mpimg\n",
    "import matplotlib.pyplot as plt\n",
    "%matplotlib inline"
   ]
  },
  {
   "cell_type": "code",
   "execution_count": null,
   "metadata": {
    "collapsed": true
   },
   "outputs": [],
   "source": []
  },
  {
   "cell_type": "markdown",
   "metadata": {},
   "source": [
    "** b. ** Build the feature matrix and label vector: Each image is considered as a data sample with pixels as features. This, to build the feature table you have to convert each 8 x 8 image into a row of the feature matrix with 64 feature columns for 64 pixels."
   ]
  },
  {
   "cell_type": "code",
   "execution_count": null,
   "metadata": {
    "collapsed": true
   },
   "outputs": [],
   "source": []
  },
  {
   "cell_type": "code",
   "execution_count": null,
   "metadata": {
    "collapsed": true
   },
   "outputs": [],
   "source": []
  },
  {
   "cell_type": "markdown",
   "metadata": {},
   "source": [
    "** c. ** Use sklearn functions to split the dataset into testing and training sets with the following parameters: **`test_size = 0.1, random_state = 2`**."
   ]
  },
  {
   "cell_type": "code",
   "execution_count": null,
   "metadata": {
    "collapsed": true
   },
   "outputs": [],
   "source": []
  },
  {
   "cell_type": "code",
   "execution_count": null,
   "metadata": {
    "collapsed": true
   },
   "outputs": [],
   "source": []
  },
  {
   "cell_type": "markdown",
   "metadata": {},
   "source": [
    "** d. ** Use scikit-learn \"Random Forest\" classifier to recognize the hand-written digits based on the training/testing datasets that you built in part ** (c) **. Use this command to import and define your classifier:\n",
    "\n",
    "**`from sklearn.ensemble import RandomForestClassifier`**\n",
    "\n",
    "**`my_RandomForest = RandomForestClassifier(n_estimators = 19, bootstrap = True, random_state = 2)`**\n",
    "\n",
    "Use **`my_RandomForest.fit`** for training your random forest classifier and **`my_RandomForest.predict`** for prediction. Test your Machine Learning Algorithm on testing set __*(from part (c) )*__, and calculate and report the __*accuracy*__"
   ]
  },
  {
   "cell_type": "code",
   "execution_count": 3,
   "metadata": {
    "collapsed": true
   },
   "outputs": [],
   "source": [
    "from sklearn.ensemble import RandomForestClassifier\n",
    "\n",
    "my_RandomForest = RandomForestClassifier(n_estimators = 19, bootstrap = True, random_state = 2)"
   ]
  },
  {
   "cell_type": "code",
   "execution_count": null,
   "metadata": {
    "collapsed": true
   },
   "outputs": [],
   "source": [
    "#my_RandomForest.fit()"
   ]
  },
  {
   "cell_type": "code",
   "execution_count": null,
   "metadata": {
    "collapsed": true
   },
   "outputs": [],
   "source": [
    "#my_RandomForest.predict()"
   ]
  },
  {
   "cell_type": "code",
   "execution_count": null,
   "metadata": {
    "collapsed": true
   },
   "outputs": [],
   "source": [
    "# test/calculate/report accuracy"
   ]
  },
  {
   "cell_type": "markdown",
   "metadata": {},
   "source": [
    "** e. ** Find exactly which one of the data samples (i.e. which images) have been misclassified (classified incorrectly) in your testing set. Then, use the following command to show the misclassified images:\n",
    "\n",
    "**`plt.imshow(image_name, cmap = plt.cm.gray, interpolation = \"nearest\")`**"
   ]
  },
  {
   "cell_type": "code",
   "execution_count": null,
   "metadata": {
    "collapsed": true
   },
   "outputs": [],
   "source": []
  },
  {
   "cell_type": "code",
   "execution_count": null,
   "metadata": {
    "collapsed": true
   },
   "outputs": [],
   "source": []
  },
  {
   "cell_type": "markdown",
   "metadata": {},
   "source": [
    "## Question 2\n",
    "---\n",
    "No coding needed"
   ]
  },
  {
   "cell_type": "markdown",
   "metadata": {},
   "source": [
    "Suppose we have a dataset with 3 features: X1 = GPA, X2 = Age, X3 = Type of Position (1 for Technical positions, and 0 for Non-Technical positions), and we have built a non-linear regression model as:\n",
    "\n",
    "**`Target = 𝜃0 + 𝜃1𝑋1 + 𝜃2𝑋2 + 𝜃3𝑋3+ 𝜃4𝑋1𝑋2' + 𝜃5𝑋1𝑋3`**\n",
    "\n",
    "The prediction target is “starting salary after graduation” (in thousands of dollars). Suppose we train (fit) the model, and get **`𝜃0 = 30, 𝜃1 = 20, 𝜃2 = 0.07, 𝜃3 = -30, 𝜃4 = 0.01, 𝜃5 = 10`**."
   ]
  },
  {
   "cell_type": "markdown",
   "metadata": {},
   "source": [
    "** a. ** Which answer is correct, and why?\n",
    "\n",
    "  1. For a fixed value of Age and GPA, Technical positions earn more on average than non- technical positions.\n",
    "  2. For a fixed value of Age and GPA, Non-Technical positions earn more on average than Technical positions.\n",
    "  3. For a fixed value of Age and GPA, Technical positions earn more on average than Non-Technical positions when the GPA is high enough.\n",
    "  4. For a fixed value of Age and GPA, Non-Technical positions earn more on average than Technical positions when the GPA is high enough."
   ]
  },
  {
   "cell_type": "code",
   "execution_count": null,
   "metadata": {
    "collapsed": true
   },
   "outputs": [],
   "source": []
  },
  {
   "cell_type": "markdown",
   "metadata": {},
   "source": [
    "** b. ** Predict the salary of a Technical and a Non-Technical positions with Age of 27, GPA of 4.0."
   ]
  },
  {
   "cell_type": "code",
   "execution_count": null,
   "metadata": {
    "collapsed": true
   },
   "outputs": [],
   "source": []
  },
  {
   "cell_type": "markdown",
   "metadata": {},
   "source": [
    "## Question 3\n",
    "---\n",
    "No coding needed"
   ]
  },
  {
   "cell_type": "markdown",
   "metadata": {},
   "source": [
    "Suppose that we would like to perform the following task using MapReduce. Please determine the input/output of each mapper and reducer and all intermediate key-value pairs generated in the process of MapReduce:"
   ]
  },
  {
   "cell_type": "markdown",
   "metadata": {},
   "source": [
    "- Matrix-to-Vector multiplication using MapReduce with 4 mappers and 2 reducers:\n",
    "\n",
    "```\n",
    "                   _   _\n",
    " _            _   |  3  |\n",
    "| 5  -3   3  7 |  |  7  |\n",
    "|_4   2  -8  6_|  | -9  |\n",
    "                  |_ 2 _|\n",
    "                   \n",
    "```"
   ]
  },
  {
   "cell_type": "code",
   "execution_count": null,
   "metadata": {
    "collapsed": true
   },
   "outputs": [],
   "source": []
  }
 ],
 "metadata": {
  "kernelspec": {
   "display_name": "Python 3",
   "language": "python",
   "name": "python3"
  },
  "language_info": {
   "codemirror_mode": {
    "name": "ipython",
    "version": 3
   },
   "file_extension": ".py",
   "mimetype": "text/x-python",
   "name": "python",
   "nbconvert_exporter": "python",
   "pygments_lexer": "ipython3",
   "version": "3.6.2"
  }
 },
 "nbformat": 4,
 "nbformat_minor": 2
}
