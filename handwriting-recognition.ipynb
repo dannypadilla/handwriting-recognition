{
 "cells": [
  {
   "cell_type": "markdown",
   "metadata": {},
   "source": [
    "# Handwriting Recognition\n",
    "---\n",
    "Ken Luo - 300706047\n",
    "\n",
    "Danny Padilla - 304542295"
   ]
  },
  {
   "cell_type": "markdown",
   "metadata": {},
   "source": [
    "## Question 1\n",
    "---"
   ]
  },
  {
   "cell_type": "markdown",
   "metadata": {},
   "source": [
    "** a. ** Download the dataset \"Digit\" from CSNS. Check out the dataset. It includes 1797 small images (8 x 8 pixels), each one includes a hand-written digit (0 - 9). You have to download the corresponding CSV file that includes the labels of the images. The goal is to build a Machine Learning Algorithm that can recognize the hand-written digits."
   ]
  },
  {
   "cell_type": "markdown",
   "metadata": {},
   "source": [
    "Import the following two libraries to work with images:\n",
    "\n",
    "**`\n",
    "import matplotlib.image as mpimg\n",
    "import matplotlib.pyplot as plt\n",
    "`**\n",
    "\n",
    "You can use:\n",
    "\n",
    "  **` plimg.imread(file_name) `**\n",
    "\n",
    "to lead an image and,\n",
    "\n",
    "  **` plt.imshow(image_name, cmap=plt.cm.gray_r,interpolation=\"nearest\") `**\n",
    "\n",
    "to show an image\n",
    "\n",
    "Add **` %matplotlib inline `** at the top of your code to make sure that the images will be shown inside the Jupyter explorer page."
   ]
  },
  {
   "cell_type": "code",
   "execution_count": 99,
   "metadata": {
    "collapsed": true
   },
   "outputs": [],
   "source": [
    "import matplotlib.image as mpimg\n",
    "import matplotlib.pyplot as plt\n",
    "%matplotlib inline\n",
    "\n",
    "import numpy as np\n",
    "import pandas as pd\n",
    "\n",
    "from sklearn.ensemble import RandomForestClassifier\n",
    "from sklearn.model_selection import train_test_split\n",
    "\n",
    "from sklearn.metrics import accuracy_score\n"
   ]
  },
  {
   "cell_type": "code",
   "execution_count": 68,
   "metadata": {
    "collapsed": true
   },
   "outputs": [],
   "source": [
    "test = np.array(mpimg.imread('./Digit/0.jpg'))"
   ]
  },
  {
   "cell_type": "code",
   "execution_count": 38,
   "metadata": {},
   "outputs": [
    {
     "data": {
      "text/plain": [
       "<matplotlib.image.AxesImage at 0x11214e710>"
      ]
     },
     "execution_count": 38,
     "metadata": {},
     "output_type": "execute_result"
    },
    {
     "data": {
      "image/png": "[encoded data removed]",
      "text/plain": [
       "<matplotlib.figure.Figure at 0x1120294e0>"
      ]
     },
     "metadata": {},
     "output_type": "display_data"
    }
   ],
   "source": [
    "plt.imshow(test, cmap=plt.cm.gray_r, interpolation='nearest')\n"
   ]
  },
  {
   "cell_type": "markdown",
   "metadata": {},
   "source": [
    "** b. ** Build the feature matrix and label vector: Each image is considered as a data sample with pixels as features. This, to build the feature table you have to convert each 8 x 8 image into a row of the feature matrix with 64 feature columns for 64 pixels."
   ]
  },
  {
   "cell_type": "code",
   "execution_count": 133,
   "metadata": {},
   "outputs": [
    {
     "name": "stdout",
     "output_type": "stream",
     "text": [
      "0    0\n",
      "1    1\n",
      "2    2\n",
      "3    3\n",
      "4    4\n",
      "Name: digit, dtype: int64\n",
      "   name of the file  digit\n",
      "0                 0      0\n",
      "1                 1      1\n",
      "2                 2      2\n",
      "3                 3      3\n",
      "4                 4      4\n",
      "0\n"
     ]
    }
   ],
   "source": [
    "labels = pd.read_csv('label.csv')\n",
    "labels.head()\n",
    "y = labels['digit']\n",
    "\n",
    "print(y.head())\n",
    "y.shape\n",
    "print(labels.head())\n",
    "print(labels.digit[10])\n"
   ]
  },
  {
   "cell_type": "code",
   "execution_count": 171,
   "metadata": {},
   "outputs": [
    {
     "name": "stdout",
     "output_type": "stream",
     "text": [
      "[  0   2  88 217 158  21   0   0  16   0 228 236 166 253  95   0   0  41\n",
      " 255  44  11 182 132   3  11  80 220   0   2 143 133   5   6  71 122   0\n",
      "   5 155 140   0   0  76 194   0  26 207 105  15   0  18 255  83 146 211\n",
      "   4   0   4   3  87 228 182   0   9   2]\n",
      "[  0   2  88 217 158  21   0   0  16   0 228 236 166 253  95   0   0  41\n",
      " 255  44  11 182 132   3  11  80 220   0   2 143 133   5   6  71 122   0\n",
      "   5 155 140   0   0  76 194   0  26 207 105  15   0  18 255  83 146 211\n",
      "   4   0   4   3  87 228 182   0   9   2]\n"
     ]
    },
    {
     "data": {
      "text/plain": [
       "(1797, 64)"
      ]
     },
     "execution_count": 171,
     "metadata": {},
     "output_type": "execute_result"
    }
   ],
   "source": [
    "iterator = []\n",
    "\n",
    "for x in range(0, 1797):\n",
    "    iterator.append(mpimg.imread('./Digit/'+ str(x) + '.jpg').flatten())\n",
    "print(iterator[0])\n",
    "na = np.array(iterator)\n",
    "print(na[0])\n",
    "#print(na[:5])\n",
    "na.shape"
   ]
  },
  {
   "cell_type": "markdown",
   "metadata": {},
   "source": [
    "** c. ** Use sklearn functions to split the dataset into testing and training sets with the following parameters: **`test_size = 0.1, random_state = 2`**."
   ]
  },
  {
   "cell_type": "code",
   "execution_count": 106,
   "metadata": {
    "collapsed": true
   },
   "outputs": [],
   "source": [
    "x_train, x_test, y_train, y_test = train_test_split(na, y, test_size = 0.1, random_state = 2)"
   ]
  },
  {
   "cell_type": "code",
   "execution_count": 107,
   "metadata": {},
   "outputs": [
    {
     "name": "stdout",
     "output_type": "stream",
     "text": [
      "(1617, 64)\n",
      "(180, 64)\n",
      "(1617,)\n",
      "(180,)\n"
     ]
    }
   ],
   "source": [
    "print(x_train.shape)\n",
    "print(x_test.shape)\n",
    "print(y_train.shape)\n",
    "print(y_test.shape)\n"
   ]
  },
  {
   "cell_type": "markdown",
   "metadata": {},
   "source": [
    "** d. ** Use scikit-learn \"Random Forest\" classifier to recognize the hand-written digits based on the training/testing datasets that you built in part ** (c) **. Use this command to import and define your classifier:\n",
    "\n",
    "**`from sklearn.ensemble import RandomForestClassifier`**\n",
    "\n",
    "**`my_RandomForest = RandomForestClassifier(n_estimators = 19, bootstrap = True, random_state = 2)`**\n",
    "\n",
    "Use **`my_RandomForest.fit`** for training your random forest classifier and **`my_RandomForest.predict`** for prediction. Test your Machine Learning Algorithm on testing set __*(from part (c) )*__, and calculate and report the __*accuracy*__"
   ]
  },
  {
   "cell_type": "code",
   "execution_count": 108,
   "metadata": {
    "collapsed": true
   },
   "outputs": [],
   "source": [
    "my_RandomForest = RandomForestClassifier(n_estimators = 19, bootstrap = True, random_state = 2)"
   ]
  },
  {
   "cell_type": "code",
   "execution_count": 109,
   "metadata": {},
   "outputs": [
    {
     "data": {
      "text/plain": [
       "RandomForestClassifier(bootstrap=True, class_weight=None, criterion='gini',\n",
       "            max_depth=None, max_features='auto', max_leaf_nodes=None,\n",
       "            min_impurity_decrease=0.0, min_impurity_split=None,\n",
       "            min_samples_leaf=1, min_samples_split=2,\n",
       "            min_weight_fraction_leaf=0.0, n_estimators=19, n_jobs=1,\n",
       "            oob_score=False, random_state=2, verbose=0, warm_start=False)"
      ]
     },
     "execution_count": 109,
     "metadata": {},
     "output_type": "execute_result"
    }
   ],
   "source": [
    "my_RandomForest.fit(x_train, y_train)"
   ]
  },
  {
   "cell_type": "code",
   "execution_count": 110,
   "metadata": {
    "collapsed": true
   },
   "outputs": [],
   "source": [
    "y_predict = my_RandomForest.predict(x_test)"
   ]
  },
  {
   "cell_type": "code",
   "execution_count": 111,
   "metadata": {},
   "outputs": [
    {
     "name": "stdout",
     "output_type": "stream",
     "text": [
      "0.927777777778\n"
     ]
    }
   ],
   "source": [
    "# test/calculate/report accuracy\n",
    "accuracy = accuracy_score(y_test, y_predict)\n",
    "print(accuracy)"
   ]
  },
  {
   "cell_type": "markdown",
   "metadata": {},
   "source": [
    "** e. ** Find exactly which one of the data samples (i.e. which images) have been misclassified (classified incorrectly) in your testing set. Then, use the following command to show the misclassified images:\n",
    "\n",
    "**`plt.imshow(image_name, cmap = plt.cm.gray, interpolation = \"nearest\")`**"
   ]
  },
  {
   "cell_type": "code",
   "execution_count": 175,
   "metadata": {},
   "outputs": [
    {
     "name": "stdout",
     "output_type": "stream",
     "text": [
      "(array([  4,  16,  41,  44,  45,  49,  63,  66, 115, 130, 137, 165, 174]),)\n",
      "[  0   2  88 217 158  21   0   0  16   0 228 236 166 253  95   0   0  41\n",
      " 255  44  11 182 132   3  11  80 220   0   2 143 133   5   6  71 122   0\n",
      "   5 155 140   0   0  76 194   0  26 207 105  15   0  18 255  83 146 211\n",
      "   4   0   4   3  87 228 182   0   9   2]\n",
      "[  0   6   0  34 160   7   7   0   5   0   9 109 119   0   0   7   0  10\n",
      "   9 202 109  34  27   0   0   9 106 241   2 128 139   2   0  99 255 154\n",
      "   0 255  99   0   3  44 244 255 213 244   0  12   0  13   0  30 254 173\n",
      "   7   0   0   0   2  42 250  51   0   4]\n",
      "[]\n"
     ]
    },
    {
     "data": {
      "text/plain": [
       "<matplotlib.figure.Figure at 0x11569ae10>"
      ]
     },
     "metadata": {},
     "output_type": "display_data"
    }
   ],
   "source": [
    "misclassified = np.where(y_test != my_RandomForest.predict(x_test))\n",
    "print(misclassified)\n",
    "list = []\n",
    "\n",
    "print(na[0])\n",
    "for i in misclassified:\n",
    "    print(na[i][0])\n",
    "#    list.append(na[i].reshape((8,8)))\n",
    "print(list)\n",
    "for i in misclassified:\n",
    "#    temp = na[i].reshape((8,8))\n",
    "    plt.figure()\n",
    "#    plt.imshow(temp, cmap = plt.cm.gray, interpolation = \"nearest\")\n",
    "    \n"
   ]
  },
  {
   "cell_type": "code",
   "execution_count": null,
   "metadata": {
    "collapsed": true
   },
   "outputs": [],
   "source": [
    "for i in misclassified:\n",
    "    plt.imshow(i, cmap = plt.cm.gray, interpolation = \"nearest\")"
   ]
  },
  {
   "cell_type": "markdown",
   "metadata": {},
   "source": [
    "## Question 2\n",
    "---\n",
    "No coding needed"
   ]
  },
  {
   "cell_type": "markdown",
   "metadata": {},
   "source": [
    "Suppose we have a dataset with 3 features: X1 = GPA, X2 = Age, X3 = Type of Position (1 for Technical positions, and 0 for Non-Technical positions), and we have built a non-linear regression model as:\n",
    "\n",
    "**`Target = 𝜃0 + 𝜃1𝑋1 + 𝜃2𝑋2 + 𝜃3𝑋3+ 𝜃4𝑋1𝑋2 + 𝜃5𝑋1𝑋3`**\n",
    "\n",
    "The prediction target is “starting salary after graduation” (in thousands of dollars). Suppose we train (fit) the model, and get **`𝜃0 = 30, 𝜃1 = 20, 𝜃2 = 0.07, 𝜃3 = -30, 𝜃4 = 0.01, 𝜃5 = 10`**."
   ]
  },
  {
   "cell_type": "markdown",
   "metadata": {},
   "source": [
    "** a. ** Which answer is correct, and why?\n",
    "\n",
    "  1. For a fixed value of Age and GPA, Technical positions earn more on average than non- technical positions.\n",
    "  2. For a fixed value of Age and GPA, Non-Technical positions earn more on average than Technical positions.\n",
    "  3. For a fixed value of Age and GPA, Technical positions earn more on average than Non-Technical positions when the GPA is high enough.\n",
    "  4. For a fixed value of Age and GPA, Non-Technical positions earn more on average than Technical positions when the GPA is high enough."
   ]
  },
  {
   "cell_type": "markdown",
   "metadata": {
    "collapsed": true
   },
   "source": [
    "__ANSWER:__\n",
    "\n",
    "__For a fixed value of Age and GPA, Non-Technical positions earn more on average than Technical positions.__\n",
    "\n",
    "__Because 𝜃3𝑋3 has a larger effect than 𝜃5𝑋1𝑋3__"
   ]
  },
  {
   "cell_type": "markdown",
   "metadata": {},
   "source": [
    "** b. ** Predict the salary of a Technical and a Non-Technical positions with Age of 27, GPA of 4.0."
   ]
  },
  {
   "cell_type": "code",
   "execution_count": 14,
   "metadata": {},
   "outputs": [
    {
     "name": "stdout",
     "output_type": "stream",
     "text": [
      "Technical Salary:      122.97\n",
      "Non-Technical Salary:  112.97\n"
     ]
    }
   ],
   "source": [
    "# Technical:\n",
    "technical = 30 + 20*(4.0) + 0.07*(27) - 30*(1) + 0.01*(4.0)*(27) + 10*(4.0)*(1)\n",
    "print(\"Technical Salary:     \", technical)\n",
    "## Technical Salary = 122.97\n",
    "\n",
    "# Non-Technical:\n",
    "non_technical = 30 + 20*(4.0) + 0.07*(27) - 30*(0) + 0.01*(4.0)*(27) + 10*(4.0)*(0)\n",
    "print(\"Non-Technical Salary: \", non_technical)\n",
    "## Non-Technical Salary = 122.97"
   ]
  },
  {
   "cell_type": "markdown",
   "metadata": {},
   "source": [
    "## Question 3\n",
    "---\n",
    "No coding needed"
   ]
  },
  {
   "cell_type": "markdown",
   "metadata": {},
   "source": [
    "Suppose that we would like to perform the following task using MapReduce. Please determine the input/output of each mapper and reducer and all intermediate key-value pairs generated in the process of MapReduce:"
   ]
  },
  {
   "cell_type": "markdown",
   "metadata": {},
   "source": [
    "- Matrix-to-Vector multiplication using MapReduce with 4 mappers and 2 reducers:\n",
    "\n",
    "```\n",
    "                   _   _\n",
    " _            _   |  3  |\n",
    "| 5  -3   3  7 |  |  7  |\n",
    "|_4   2  -8  6_|  | -9  |\n",
    "                  |_ 2 _|\n",
    "                   \n",
    "```"
   ]
  },
  {
   "cell_type": "code",
   "execution_count": null,
   "metadata": {
    "collapsed": true
   },
   "outputs": [],
   "source": [
    "'''\n",
    "\n",
    "MAPPER:\n",
    "((0, 0),  5) -> (0,  5 *  3) =  15\n",
    "((0, 1), -3) -> (0, -3 *  7) = -21\n",
    "((0, 2),  3) -> (0,  3 * -9) = -27\n",
    "((0, 3),  7) -> (0,  7 *  2) =  14\n",
    "\n",
    "((1, 0),  4) -> (1,  4 *  3) =  12\n",
    "((1, 1),  2) -> (1,  2 *  7) =  14\n",
    "((1, 2), -8) -> (1, -8 * -9) =  72\n",
    "((1, 3),  6) -> (1,  6 *  2) =  12\n",
    "\n",
    "\n",
    "REDUCE\n",
    "(0, [15 - 21 - 27 + 14] ) = -19\n",
    "(1, [12 + 14 + 72 + 12] ) = 110\n",
    "\n",
    "ANSWER: [ -19  110]\n",
    "\n",
    "'''"
   ]
  }
 ],
 "metadata": {
  "kernelspec": {
   "display_name": "Python 3",
   "language": "python",
   "name": "python3"
  },
  "language_info": {
   "codemirror_mode": {
    "name": "ipython",
    "version": 3
   },
   "file_extension": ".py",
   "mimetype": "text/x-python",
   "name": "python",
   "nbconvert_exporter": "python",
   "pygments_lexer": "ipython3",
   "version": "3.6.2"
  }
 },
 "nbformat": 4,
 "nbformat_minor": 2
}
